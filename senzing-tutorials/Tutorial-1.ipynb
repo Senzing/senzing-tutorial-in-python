{
 "cells": [
  {
   "cell_type": "markdown",
   "metadata": {},
   "source": [
    "# Tutorial 1\n",
    "\n",
    "# Work in progress\n",
    "\n",
    "The story so far...  What the storyline for this tutorial series?\n",
    "\n",
    "Without records, there is no entity resolution. So, the basic building block for \n",
    "the ER system will add records to the system.  Senzing expects records to be mapped \n",
    "into the [Generic Entity Specification](https://github.com/Senzing/senzing-entity-specification/tree/main/docs).  \n",
    "\n",
    "The `addRecord()` method adds a single record to the system.  The adding of a record \n",
    "triggers a whole bunch steps.  For a complete discussion of those steps, see the \n",
    "[entity resolution process](https://senzing.com/er-processes-published/).\n",
    "\n",
    "More information: \n",
    "\n",
    "* [G2Engine Reference](senzing-G2Engine-reference.ipynb) __FIXME__"
   ]
  },
  {
   "cell_type": "markdown",
   "metadata": {},
   "source": [
    "## Prepare Environment\n",
    "\n",
    "To star we need to have a few python modules available to use.  The only unusual \n",
    "import here is the `IPython.display` import.  This is used to format JSON output \n",
    "in Jupyter Labs notebooks."
   ]
  },
  {
   "cell_type": "code",
   "execution_count": 1,
   "metadata": {},
   "outputs": [],
   "source": [
    "import os\n",
    "import sys\n",
    "import json\n",
    "\n",
    "from IPython.display import JSON"
   ]
  },
  {
   "cell_type": "markdown",
   "metadata": {},
   "source": [
    "### Initialize variables\n",
    "\n",
    "This next section creates and populates some boilerplate variables and a default \n",
    "configuration for the Senzing engine.  In a later tutorial, we'll take a deeper \n",
    "dive into the Senzing configuration.  "
   ]
  },
  {
   "cell_type": "code",
   "execution_count": null,
   "metadata": {},
   "outputs": [],
   "source": [
    "%run init-config.ipynb"
   ]
  },
  {
   "cell_type": "code",
   "execution_count": 4,
   "metadata": {},
   "outputs": [],
   "source": [
    "%store -r senzing_config_json"
   ]
  },
  {
   "cell_type": "code",
   "execution_count": null,
   "metadata": {},
   "outputs": [],
   "source": [
    "JSON(json.loads(senzing_config_json))"
   ]
  },
  {
   "cell_type": "markdown",
   "metadata": {},
   "source": [
    "## G2Engine\n",
    "\n",
    "The G2Engine is one of the base APIs for talking to Senzing.  We import it an a \n",
    "few Senzing specific Exceptions, in case we need to handle them."
   ]
  },
  {
   "cell_type": "code",
   "execution_count": 6,
   "metadata": {},
   "outputs": [],
   "source": [
    "from senzing import G2Engine, G2Exception"
   ]
  },
  {
   "cell_type": "markdown",
   "metadata": {},
   "source": [
    "### G2Engine initialization\n",
    "\n",
    "The first actual call to Senzing is to initialize the G2 Engine, which is what \n",
    "we call the Senzing entity resolution engine. \n",
    "\n",
    "Details at [G2Engine initialization](senzing-G2Engine-reference.ipynb#G2Engine-initialization). __FIXME__\n"
   ]
  },
  {
   "cell_type": "code",
   "execution_count": 7,
   "metadata": {
    "scrolled": true
   },
   "outputs": [],
   "source": [
    "g2_engine = G2Engine()\n",
    "try:\n",
    "    g2_engine.init(module_name, senzing_config_json, verbose_logging)\n",
    "\n",
    "except G2Exception as err:\n",
    "    print(err)"
   ]
  },
  {
   "cell_type": "markdown",
   "metadata": {},
   "source": [
    "### Add record\n",
    "\n",
    "Once the Senzing engine is initialized, use addRecord() to load a record into the Senzing repository -- addRecord() can be called as many times as desired and from multiple threads at the same time.  Note that this record adheres to the [Generic Entity Specification](https://github.com/Senzing/senzing-entity-specification/tree/main/docs).\n",
    "\n",
    "Details at [G2Engine.addRecord](senzing-G2Engine-reference.ipynb#addRecord). __FIXME__"
   ]
  },
  {
   "cell_type": "code",
   "execution_count": 8,
   "metadata": {},
   "outputs": [],
   "source": [
    "datasource_code = \"TEST\"\n",
    "record_id = \"1\"\n",
    "data = {\n",
    "    \"NAMES\": [{\n",
    "        \"NAME_TYPE\": \"PRIMARY\",\n",
    "        \"NAME_LAST\": \"Smith\",\n",
    "        \"NAME_FIRST\": \"John\",\n",
    "        \"NAME_MIDDLE\": \"M\"\n",
    "    }],\n",
    "    \"PASSPORT_NUMBER\": \"PP11111\",\n",
    "    \"PASSPORT_COUNTRY\": \"US\",\n",
    "    \"DRIVERS_LICENSE_NUMBER\": \"DL11111\",\n",
    "    \"SSN_NUMBER\": \"111-11-1111\"\n",
    "}\n",
    "data_string = json.dumps(data)\n",
    "load_id = None\n",
    "try:\n",
    "    g2_engine.addRecord(datasource_code, record_id, data_string, load_id)\n",
    "\n",
    "except G2Exception as err:\n",
    "    print(err)"
   ]
  },
  {
   "cell_type": "markdown",
   "metadata": {},
   "source": [
    "### Get record\n",
    "\n",
    "Details at [G2Engine.getRecord](senzing-G2Engine-reference.ipynb#getRecord)."
   ]
  },
  {
   "cell_type": "code",
   "execution_count": null,
   "metadata": {},
   "outputs": [],
   "source": [
    "response_bytearray = bytearray()\n",
    "try:\n",
    "    g2_engine.getRecord(\n",
    "        datasource_code,\n",
    "        record_id,\n",
    "        response_bytearray)\n",
    "\n",
    "except G2Exception as err:\n",
    "    print(err)\n",
    "    \n",
    "JSON(json.loads(response_bytearray))"
   ]
  },
  {
   "cell_type": "markdown",
   "metadata": {},
   "source": [
    "### Get entity by record ID\n",
    "\n",
    "Details at [G2Engine.getEntityByRecordID](senzing-G2Engine-reference.ipynb#getEntityByRecordID)."
   ]
  },
  {
   "cell_type": "code",
   "execution_count": null,
   "metadata": {},
   "outputs": [],
   "source": [
    "response_bytearray = bytearray()\n",
    "try:\n",
    "    g2_engine.getEntityByRecordID(\n",
    "        datasource_code,\n",
    "        record_id,\n",
    "        response_bytearray)\n",
    "\n",
    "except G2Exception as err:\n",
    "    print(err)\n",
    "    \n",
    "JSON(json.loads(response_bytearray))"
   ]
  },
  {
   "cell_type": "markdown",
   "metadata": {},
   "source": [
    "### Get entity by entity ID\n",
    "\n",
    "Details at [G2Engine.getEntityByEntityID](senzing-G2Engine-reference.ipynb#getEntityByEntityID)."
   ]
  },
  {
   "cell_type": "code",
   "execution_count": null,
   "metadata": {},
   "outputs": [],
   "source": [
    "entity_id = 1\n",
    "response_bytearray = bytearray()\n",
    "try:\n",
    "    g2_engine.getEntityByEntityID(entity_id, response_bytearray)\n",
    "\n",
    "except G2Exception as err:\n",
    "    print(err)\n",
    "    \n",
    "JSON(json.loads(response_bytearray))"
   ]
  },
  {
   "cell_type": "markdown",
   "metadata": {},
   "source": [
    "### Search by attributes\n",
    "\n",
    "Details at [G2Engine.searchByAttributes](senzing-G2Engine-reference.ipynb#searchByAttributes)."
   ]
  },
  {
   "cell_type": "code",
   "execution_count": null,
   "metadata": {},
   "outputs": [],
   "source": [
    "response_bytearray = bytearray()\n",
    "try:\n",
    "    g2_engine.searchByAttributes(data_string, response_bytearray)\n",
    "\n",
    "except G2Exception as err:\n",
    "    print(err)\n",
    "    \n",
    "JSON(json.loads(response_bytearray))"
   ]
  }
 ],
 "metadata": {
  "kernelspec": {
   "display_name": "Python 3 (ipykernel)",
   "language": "python",
   "name": "python3"
  },
  "language_info": {
   "codemirror_mode": {
    "name": "ipython",
    "version": 3
   },
   "file_extension": ".py",
   "mimetype": "text/x-python",
   "name": "python",
   "nbconvert_exporter": "python",
   "pygments_lexer": "ipython3",
   "version": "3.10.6"
  },
  "toc": {
   "base_numbering": 1,
   "nav_menu": {},
   "number_sections": true,
   "sideBar": true,
   "skip_h1_title": true,
   "title_cell": "Table of Contents",
   "title_sidebar": "Contents",
   "toc_cell": false,
   "toc_position": {},
   "toc_section_display": true,
   "toc_window_display": true
  },
  "vscode": {
   "interpreter": {
    "hash": "ac2eaa0ea0ebeafcc7822e65e46aa9d4f966f30b695406963e145ea4a91cd4fc"
   }
  }
 },
 "nbformat": 4,
 "nbformat_minor": 4
}
