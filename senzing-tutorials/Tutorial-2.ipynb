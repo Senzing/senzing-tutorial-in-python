{
 "cells": [
  {
   "cell_type": "markdown",
   "metadata": {},
   "source": [
    "# Tutorial 2\n",
    "\n",
    "# Work in progress\n",
    "\n",
    "In the previous tutorial, a record was added using the default data source \"TEST\".  \n",
    "A Senzing \"data source\" is an identifier that distinguishes where a record came \n",
    "from.  Using the default is fine for a quick tutorial.  However, often there needs \n",
    "to be a Senzing data source defined for each originating database or source of data.  \n",
    "These originating sources of data could be databases from different companies for example.  \n",
    "Senzing data sources need only be created once.\n",
    "\n",
    "In this tutorial, we'll look at two ways to add a Senzing data source.\n",
    "\n",
    "1. Programmatically using Python.\n",
    "1. Using a command line utility.\n",
    "\n",
    "More information: \n",
    "\n",
    "* [G2Engine Reference](senzing-G2Engine-reference.ipynb) __FIXME__"
   ]
  },
  {
   "cell_type": "markdown",
   "metadata": {},
   "source": [
    "## Prepare Environment\n",
    "\n",
    "To start we need to have a few python modules available to use.  The only unusual \n",
    "import here is the `IPython.display` import.  This is used to format JSON output \n",
    "in Jupyter Labs notebooks."
   ]
  },
  {
   "cell_type": "code",
   "execution_count": 1,
   "metadata": {},
   "outputs": [],
   "source": [
    "import os\n",
    "import sys\n",
    "import json\n",
    "\n",
    "from IPython.display import JSON"
   ]
  },
  {
   "cell_type": "markdown",
   "metadata": {},
   "source": [
    "### Initialize variables\n",
    "\n",
    "This next section creates and populates some boilerplate variables and a default \n",
    "configuration for the Senzing engine.  In a later tutorial, we'll take a deeper \n",
    "dive into the Senzing configuration.  "
   ]
  },
  {
   "cell_type": "code",
   "execution_count": null,
   "metadata": {},
   "outputs": [],
   "source": [
    "%run init-config.ipynb"
   ]
  },
  {
   "cell_type": "code",
   "execution_count": 4,
   "metadata": {},
   "outputs": [],
   "source": [
    "%store -r senzing_config_json"
   ]
  },
  {
   "cell_type": "code",
   "execution_count": null,
   "metadata": {},
   "outputs": [],
   "source": [
    "JSON(json.loads(senzing_config_json))"
   ]
  },
  {
   "cell_type": "markdown",
   "metadata": {},
   "source": [
    "## G2Config\n",
    "\n",
    "G2Config is one of the base APIs for talking to Senzing.  Similar to [Tutorial-1](tutorial-1.ipynb) we import G2Config and a Senzing specific exception.  \n",
    "\n",
    "For now, we'll handle all exceptions as the base `G2Exception` and simply log \n",
    "any we might get raised."
   ]
  },
  {
   "cell_type": "code",
   "execution_count": 6,
   "metadata": {},
   "outputs": [],
   "source": [
    "from senzing import G2Config, G2Exception"
   ]
  },
  {
   "cell_type": "markdown",
   "metadata": {},
   "source": [
    "### Create configuration handle\n",
    "\n",
    "Details at [G2Config.create](senzing-G2Config-reference.ipynb#create). __FIXME__"
   ]
  },
  {
   "cell_type": "code",
   "execution_count": 7,
   "metadata": {
    "scrolled": true
   },
   "outputs": [],
   "source": [
    "try:\n",
    "    config_handle = g2_config.create()\n",
    "    \n",
    "except G2Exception as err:\n",
    "    print(err)"
   ]
  },
  {
   "cell_type": "markdown",
   "metadata": {},
   "source": [
    "### List DataSources\n",
    "\n",
    "Call G2Config's `listDataSources()` method and pretty-print results.\n",
    "\n",
    "Details at [G2Config.listDataSources](senzing-G2Config-reference.ipynb#listDataSources). __FIXME__"
   ]
  },
  {
   "cell_type": "code",
   "execution_count": 8,
   "metadata": {},
   "outputs": [],
   "source": [
    "response_bytearray = bytearray()\n",
    "try:\n",
    "    g2_config.listDataSources(config_handle, response_bytearray)\n",
    "\n",
    "except G2Exception as err:\n",
    "    print(err)\n",
    "    \n",
    "JSON(json.loads(response_bytearray))"
   ]
  },
  {
   "cell_type": "markdown",
   "metadata": {},
   "source": [
    "### Add DataSource\n",
    "\n",
    "Call G2Config's `addDataSource()` method and pretty-print results.\n",
    "\n",
    "Details at [G2Config.addDataSource](senzing-G2Config-reference.ipynb#addDataSource). __FIXME__"
   ]
  },
  {
   "cell_type": "code",
   "execution_count": null,
   "metadata": {},
   "outputs": [],
   "source": [
    "datasource = {\n",
    "        \"DSRC_CODE\": \"CUSTOMER\"\n",
    "    }\n",
    "datasource_code = json.dumps(datasource)\n",
    "\n",
    "response_bytearray = bytearray()\n",
    "try:\n",
    "    g2_config.addDataSource(config_handle, datasource_code, response_bytearray)\n",
    "\n",
    "except G2Exception as err:\n",
    "    print(err)"
   ]
  },
  {
   "cell_type": "markdown",
   "metadata": {},
   "source": [
    "### List DataSources again\n",
    "\n",
    "Call G2Config's `listDataSources()` method and pretty-print results.\n",
    "Notice that the list now contains the newly added datasource_code of \"CUSTOMER\".\n",
    "\n",
    "Details at [G2Config.listDataSources](senzing-G2Config-reference.ipynb#listDataSources)."
   ]
  },
  {
   "cell_type": "code",
   "execution_count": null,
   "metadata": {},
   "outputs": [],
   "source": [
    "response_bytearray = bytearray()\n",
    "try:\n",
    "    g2_config.listDataSources(config_handle, response_bytearray)\n",
    "\n",
    "except G2Exception as err:\n",
    "    print(err)\n",
    "    \n",
    "JSON(json.loads(response_bytearray))"
   ]
  },
  {
   "cell_type": "markdown",
   "metadata": {},
   "source": [
    "### Close configuration handle\n",
    "\n",
    "Details at [G2Config.close](senzing-G2Config-reference.ipynb#close)."
   ]
  },
  {
   "cell_type": "code",
   "execution_count": null,
   "metadata": {},
   "outputs": [],
   "source": [
    "g2_config.close(config_handle)"
   ]
  }
 ],
 "metadata": {
  "kernelspec": {
   "display_name": "Python 3 (ipykernel)",
   "language": "python",
   "name": "python3"
  },
  "language_info": {
   "codemirror_mode": {
    "name": "ipython",
    "version": 3
   },
   "file_extension": ".py",
   "mimetype": "text/x-python",
   "name": "python",
   "nbconvert_exporter": "python",
   "pygments_lexer": "ipython3",
   "version": "3.9.13"
  },
  "toc": {
   "base_numbering": 1,
   "nav_menu": {},
   "number_sections": true,
   "sideBar": true,
   "skip_h1_title": true,
   "title_cell": "Table of Contents",
   "title_sidebar": "Contents",
   "toc_cell": false,
   "toc_position": {},
   "toc_section_display": true,
   "toc_window_display": true
  },
  "vscode": {
   "interpreter": {
    "hash": "ac2eaa0ea0ebeafcc7822e65e46aa9d4f966f30b695406963e145ea4a91cd4fc"
   }
  }
 },
 "nbformat": 4,
 "nbformat_minor": 4
}
