{
 "cells": [
  {
   "cell_type": "markdown",
   "metadata": {},
   "source": [
    "# Tutorial 2\n",
    "\n",
    "# Work in progress\n",
    "\n",
    "In the previous tutorial, a record was added using the default data source \"TEST\".  \n",
    "A Senzing \"data source\" is an identifier that distinguishes where a record came \n",
    "from.  Using the default is fine for a quick tutorial.  However, often there needs \n",
    "to be a Senzing data source defined for each originating database or source of data.  \n",
    "These originating sources of data could be databases from different companies for example.  \n",
    "Senzing data sources need only be created once.\n",
    "\n",
    "More information: \n",
    "\n",
    "* [G2Engine Reference](senzing-G2Engine-reference.ipynb) __FIXME__"
   ]
  },
  {
   "cell_type": "markdown",
   "metadata": {},
   "source": [
    "## Prepare Environment\n",
    "\n",
    "To start we need to have a few python modules available to use.  The only unusual \n",
    "import here is the `IPython.display` import.  This is used to format JSON output \n",
    "in Jupyter Labs notebooks."
   ]
  },
  {
   "cell_type": "code",
   "execution_count": 1,
   "metadata": {},
   "outputs": [],
   "source": [
    "import os\n",
    "import sys\n",
    "import json\n",
    "\n",
    "from IPython.display import JSON"
   ]
  },
  {
   "cell_type": "markdown",
   "metadata": {},
   "source": [
    "### Initialize variables\n",
    "\n",
    "This next section creates and populates some boilerplate variables and a default \n",
    "configuration for the Senzing engine.  In a later tutorial, we'll take a deeper \n",
    "dive into the Senzing configuration.  "
   ]
  },
  {
   "cell_type": "code",
   "execution_count": null,
   "metadata": {},
   "outputs": [],
   "source": [
    "%run init-config.ipynb"
   ]
  },
  {
   "cell_type": "code",
   "execution_count": 4,
   "metadata": {},
   "outputs": [],
   "source": [
    "%store -r senzing_config_json"
   ]
  },
  {
   "cell_type": "code",
   "execution_count": null,
   "metadata": {},
   "outputs": [],
   "source": [
    "JSON(json.loads(senzing_config_json))"
   ]
  },
  {
   "cell_type": "markdown",
   "metadata": {},
   "source": [
    "## G2Engine\n",
    "\n",
    "The G2Engine is one of the base APIs for talking to Senzing.  We import it and a \n",
    "Senzing specific exception.  `G2Exception` is the base Senzing exception.  It has  \n",
    "3 child exceptions that can be caught and handled for different situations. \n",
    "They are `G2BadInputException`, `G2RetryableException`, and `G2UnrecoverableException`.  \n",
    "The names suggest when they might occur.  \n",
    "\n",
    "- `G2BadInputException` happens when Senzing is sent input it does not know how \n",
    "to handle.  For example, if a record is sent to Senzing that is not in the correct \n",
    "format.\n",
    "\n",
    "- `G2RetryableException` happens when there's a condition that did not allow the \n",
    "input to be processed at this time.  An example might be if there were no available \n",
    "database connections.  This exception could handled and the input tried again at a \n",
    "later time.\n",
    "\n",
    "- `G2UnrecoverableException` is reasonably self explanatory.  Something has gone \n",
    "terribly wrong.  In such cases, it's probably best to log everything and exit. \n",
    "\n",
    "For now, we'll handle all exceptions as the base `G2Exception` and simply log \n",
    "any we might get raised."
   ]
  },
  {
   "cell_type": "code",
   "execution_count": 6,
   "metadata": {},
   "outputs": [],
   "source": [
    "from senzing import G2Engine, G2Exception"
   ]
  },
  {
   "cell_type": "markdown",
   "metadata": {},
   "source": [
    "### G2Engine initialization\n",
    "\n",
    "The first actual call to Senzing is to initialize the G2 Engine, which is what \n",
    "we call the Senzing entity resolution engine. \n",
    "\n",
    "Details at [G2Engine initialization](senzing-G2Engine-reference.ipynb#G2Engine-initialization). __FIXME__\n"
   ]
  },
  {
   "cell_type": "code",
   "execution_count": 7,
   "metadata": {
    "scrolled": true
   },
   "outputs": [],
   "source": [
    "g2_engine = G2Engine()\n",
    "try:\n",
    "    g2_engine.init(module_name, senzing_config_json, verbose_logging)\n",
    "\n",
    "except G2Exception as err:\n",
    "    print(err)"
   ]
  },
  {
   "cell_type": "markdown",
   "metadata": {},
   "source": [
    "### Add record\n",
    "\n",
    "Once the Senzing engine is initialized, use addRecord() to load a record into the Senzing repository -- addRecord() can be called as many times as desired and from multiple threads at the same time.  Note that this record adheres to the [Generic Entity Specification](https://github.com/Senzing/senzing-entity-specification/tree/main/docs).\n",
    "\n",
    "Details at [G2Engine.addRecord](senzing-G2Engine-reference.ipynb#addRecord). __FIXME__"
   ]
  },
  {
   "cell_type": "code",
   "execution_count": 8,
   "metadata": {},
   "outputs": [],
   "source": [
    "datasource_code = \"TEST\"\n",
    "record_id = \"1\"\n",
    "data = {\n",
    "    \"NAMES\": [{\n",
    "        \"NAME_TYPE\": \"PRIMARY\",\n",
    "        \"NAME_LAST\": \"Smith\",\n",
    "        \"NAME_FIRST\": \"John\",\n",
    "        \"NAME_MIDDLE\": \"M\"\n",
    "    }],\n",
    "    \"PASSPORT_NUMBER\": \"PP11111\",\n",
    "    \"PASSPORT_COUNTRY\": \"US\",\n",
    "    \"DRIVERS_LICENSE_NUMBER\": \"DL11111\",\n",
    "    \"SSN_NUMBER\": \"111-11-1111\"\n",
    "}\n",
    "data_string = json.dumps(data)\n",
    "load_id = None\n",
    "try:\n",
    "    g2_engine.addRecord(datasource_code, record_id, data_string, load_id)\n",
    "\n",
    "except G2Exception as err:\n",
    "    print(err)"
   ]
  },
  {
   "cell_type": "markdown",
   "metadata": {},
   "source": [
    "### Get record\n",
    "\n",
    "Retrieve any record by the ID used to create it.  In this case there's only one \n",
    "record in our system so, retrieve it.\n",
    "\n",
    "Details at [G2Engine.getRecord](senzing-G2Engine-reference.ipynb#getRecord)."
   ]
  },
  {
   "cell_type": "code",
   "execution_count": null,
   "metadata": {},
   "outputs": [],
   "source": [
    "response_bytearray = bytearray()\n",
    "try:\n",
    "    g2_engine.getRecord(\n",
    "        datasource_code,\n",
    "        record_id,\n",
    "        response_bytearray)\n",
    "\n",
    "except G2Exception as err:\n",
    "    print(err)\n",
    "    \n",
    "JSON(json.loads(response_bytearray))"
   ]
  },
  {
   "cell_type": "markdown",
   "metadata": {},
   "source": [
    "### Get entity by record ID\n",
    "\n",
    "Retrieve the entity that contains the record with the given ID.  Again, in this \n",
    "case there will be only one possible entity to retrieve.\n",
    "\n",
    "Details at [G2Engine.getEntityByRecordID](senzing-G2Engine-reference.ipynb#getEntityByRecordID)."
   ]
  },
  {
   "cell_type": "code",
   "execution_count": null,
   "metadata": {},
   "outputs": [],
   "source": [
    "response_bytearray = bytearray()\n",
    "try:\n",
    "    g2_engine.getEntityByRecordID(\n",
    "        datasource_code,\n",
    "        record_id,\n",
    "        response_bytearray)\n",
    "\n",
    "except G2Exception as err:\n",
    "    print(err)\n",
    "    \n",
    "JSON(json.loads(response_bytearray))"
   ]
  },
  {
   "cell_type": "markdown",
   "metadata": {},
   "source": [
    "### Get entity by entity ID\n",
    "\n",
    "Retrieve an entity by the entity ID.  Since there is only 1 entity, we retrieve it.\n",
    "\n",
    "Details at [G2Engine.getEntityByEntityID](senzing-G2Engine-reference.ipynb#getEntityByEntityID)."
   ]
  },
  {
   "cell_type": "code",
   "execution_count": null,
   "metadata": {},
   "outputs": [],
   "source": [
    "entity_id = 1\n",
    "response_bytearray = bytearray()\n",
    "try:\n",
    "    g2_engine.getEntityByEntityID(entity_id, response_bytearray)\n",
    "\n",
    "except G2Exception as err:\n",
    "    print(err)\n",
    "    \n",
    "JSON(json.loads(response_bytearray))"
   ]
  },
  {
   "cell_type": "markdown",
   "metadata": {},
   "source": [
    "### Search by attributes\n",
    "\n",
    "\n",
    "\n",
    "Details at [G2Engine.searchByAttributes](senzing-G2Engine-reference.ipynb#searchByAttributes)."
   ]
  },
  {
   "cell_type": "code",
   "execution_count": null,
   "metadata": {},
   "outputs": [],
   "source": [
    "response_bytearray = bytearray()\n",
    "try:\n",
    "    g2_engine.searchByAttributes(data_string, response_bytearray)\n",
    "\n",
    "except G2Exception as err:\n",
    "    print(err)\n",
    "    \n",
    "JSON(json.loads(response_bytearray))"
   ]
  }
 ],
 "metadata": {
  "kernelspec": {
   "display_name": "Python 3 (ipykernel)",
   "language": "python",
   "name": "python3"
  },
  "language_info": {
   "codemirror_mode": {
    "name": "ipython",
    "version": 3
   },
   "file_extension": ".py",
   "mimetype": "text/x-python",
   "name": "python",
   "nbconvert_exporter": "python",
   "pygments_lexer": "ipython3",
   "version": "3.9.13"
  },
  "toc": {
   "base_numbering": 1,
   "nav_menu": {},
   "number_sections": true,
   "sideBar": true,
   "skip_h1_title": true,
   "title_cell": "Table of Contents",
   "title_sidebar": "Contents",
   "toc_cell": false,
   "toc_position": {},
   "toc_section_display": true,
   "toc_window_display": true
  },
  "vscode": {
   "interpreter": {
    "hash": "ac2eaa0ea0ebeafcc7822e65e46aa9d4f966f30b695406963e145ea4a91cd4fc"
   }
  }
 },
 "nbformat": 4,
 "nbformat_minor": 4
}
