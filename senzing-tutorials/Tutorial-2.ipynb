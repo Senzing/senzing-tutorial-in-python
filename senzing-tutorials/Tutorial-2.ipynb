{
 "cells": [
  {
   "cell_type": "markdown",
   "metadata": {},
   "source": [
    "# Tutorial 2\n",
    "\n",
    "# Work in progress\n",
    "\n",
    "In the previous tutorial, a record was added using the default data source \"TEST\".  \n",
    "A Senzing \"data source\" is an identifier that distinguishes where a record came \n",
    "from.  Using the default is fine for a quick tutorial.  However, often there needs \n",
    "to be a Senzing data source defined for each originating database or source of data.  \n",
    "These originating sources of data could be databases from different companies for example.  \n",
    "Senzing data sources need only be created once.\n",
    "\n",
    "In this tutorial, we'll look at two ways to add a Senzing data source.\n",
    "\n",
    "1. Programmatically using Python.\n",
    "1. Using a command line utility.\n",
    "\n",
    "More information: \n",
    "\n",
    "* [G2Engine Reference](senzing-G2Engine-reference.ipynb) __FIXME__"
   ]
  },
  {
   "cell_type": "markdown",
   "metadata": {},
   "source": [
    "## Prepare Environment\n",
    "\n",
    "To start we need to have a few python modules available to use.  The only unusual \n",
    "import here is the `IPython.display` import.  This is used to format JSON output \n",
    "in Jupyter Labs notebooks."
   ]
  },
  {
   "cell_type": "code",
   "execution_count": 1,
   "metadata": {},
   "outputs": [],
   "source": [
    "import os\n",
    "import sys\n",
    "import json\n",
    "\n",
    "from IPython.display import JSON"
   ]
  },
  {
   "cell_type": "markdown",
   "metadata": {},
   "source": [
    "### Initialize variables\n",
    "\n",
    "This next section creates and populates some boilerplate variables and a default \n",
    "configuration for the Senzing engine.  In a later tutorial, we'll take a deeper \n",
    "dive into the Senzing configuration.  "
   ]
  },
  {
   "cell_type": "code",
   "execution_count": 2,
   "metadata": {},
   "outputs": [
    {
     "name": "stdout",
     "output_type": "stream",
     "text": [
      "Stored 'senzing_config_json' (str)\n",
      "Default config already set\n",
      "Stored 'config_id_bytearray' (bytearray)\n"
     ]
    }
   ],
   "source": [
    "%run init-config.ipynb"
   ]
  },
  {
   "cell_type": "code",
   "execution_count": 3,
   "metadata": {},
   "outputs": [],
   "source": [
    "%store -r senzing_config_json"
   ]
  },
  {
   "cell_type": "code",
   "execution_count": 4,
   "metadata": {},
   "outputs": [
    {
     "data": {
      "application/json": {
       "PIPELINE": {
        "CONFIGPATH": "/etc/opt/senzing",
        "RESOURCEPATH": "/opt/senzing/g2/resources",
        "SUPPORTPATH": "/opt/senzing/data"
       },
       "SQL": {
        "CONNECTION": "sqlite3://na:na@/var/opt/senzing/sqlite/G2C.db"
       }
      },
      "text/plain": [
       "<IPython.core.display.JSON object>"
      ]
     },
     "execution_count": 4,
     "metadata": {
      "application/json": {
       "expanded": false,
       "root": "root"
      }
     },
     "output_type": "execute_result"
    }
   ],
   "source": [
    "JSON(json.loads(senzing_config_json))"
   ]
  },
  {
   "cell_type": "markdown",
   "metadata": {},
   "source": [
    "## G2Config\n",
    "\n",
    "G2Config is one of the base APIs for talking to Senzing.  Similar to [Tutorial-1](tutorial-1.ipynb) we import G2Config and a Senzing specific exception.  \n",
    "\n",
    "For now, we'll handle all exceptions as the base `G2Exception` and simply log \n",
    "any we might get raised."
   ]
  },
  {
   "cell_type": "code",
   "execution_count": 5,
   "metadata": {},
   "outputs": [],
   "source": [
    "from senzing import G2Config, G2Exception"
   ]
  },
  {
   "cell_type": "markdown",
   "metadata": {},
   "source": [
    "### Initialize G2Config\n",
    "\n",
    "Details at [G2Config Initialization](senzing-G2Config-reference.ipynb#G2Config-Initialization)."
   ]
  },
  {
   "cell_type": "code",
   "execution_count": null,
   "metadata": {},
   "outputs": [],
   "source": [
    "g2_config = G2Config()\n",
    "try:\n",
    "    g2_config.init(module_name, senzing_config_json, verbose_logging)\n",
    "\n",
    "except G2Exception as err:\n",
    "    print(err)"
   ]
  },
  {
   "cell_type": "markdown",
   "metadata": {},
   "source": [
    "### Create configuration handle\n",
    "\n",
    "Details at [G2Config.create](senzing-G2Config-reference.ipynb#create). __FIXME__"
   ]
  },
  {
   "cell_type": "code",
   "execution_count": 6,
   "metadata": {
    "scrolled": true
   },
   "outputs": [
    {
     "name": "stdout",
     "output_type": "stream",
     "text": [
      "senzing.G2Exception.G2MalformedJsonException: 30121E|JSON Parsing Failure [code=1,offset=0]\n"
     ]
    }
   ],
   "source": [
    "try:\n",
    "    config_handle = g2_config.create()\n",
    "    \n",
    "except G2Exception as err:\n",
    "    print(err)"
   ]
  },
  {
   "cell_type": "markdown",
   "metadata": {},
   "source": [
    "### List DataSources\n",
    "\n",
    "Call G2Config's `listDataSources()` method and pretty-print results.\n",
    "\n",
    "Details at [G2Config.listDataSources](senzing-G2Config-reference.ipynb#listDataSources). __FIXME__"
   ]
  },
  {
   "cell_type": "code",
   "execution_count": 7,
   "metadata": {},
   "outputs": [
    {
     "ename": "NameError",
     "evalue": "name 'config_handle' is not defined",
     "output_type": "error",
     "traceback": [
      "\u001b[0;31m---------------------------------------------------------------------------\u001b[0m",
      "\u001b[0;31mNameError\u001b[0m                                 Traceback (most recent call last)",
      "Cell \u001b[0;32mIn [7], line 3\u001b[0m\n\u001b[1;32m      1\u001b[0m response_bytearray \u001b[38;5;241m=\u001b[39m \u001b[38;5;28mbytearray\u001b[39m()\n\u001b[1;32m      2\u001b[0m \u001b[38;5;28;01mtry\u001b[39;00m:\n\u001b[0;32m----> 3\u001b[0m     g2_config\u001b[38;5;241m.\u001b[39mlistDataSources(\u001b[43mconfig_handle\u001b[49m, response_bytearray)\n\u001b[1;32m      5\u001b[0m \u001b[38;5;28;01mexcept\u001b[39;00m G2Exception \u001b[38;5;28;01mas\u001b[39;00m err:\n\u001b[1;32m      6\u001b[0m     \u001b[38;5;28mprint\u001b[39m(err)\n",
      "\u001b[0;31mNameError\u001b[0m: name 'config_handle' is not defined"
     ]
    }
   ],
   "source": [
    "response_bytearray = bytearray()\n",
    "try:\n",
    "    g2_config.listDataSources(config_handle, response_bytearray)\n",
    "\n",
    "except G2Exception as err:\n",
    "    print(err)\n",
    "    \n",
    "JSON(json.loads(response_bytearray))"
   ]
  },
  {
   "cell_type": "markdown",
   "metadata": {},
   "source": [
    "### Add DataSource\n",
    "\n",
    "Call G2Config's `addDataSource()` method and pretty-print results.\n",
    "\n",
    "Details at [G2Config.addDataSource](senzing-G2Config-reference.ipynb#addDataSource). __FIXME__"
   ]
  },
  {
   "cell_type": "code",
   "execution_count": null,
   "metadata": {},
   "outputs": [],
   "source": [
    "datasource = {\n",
    "        \"DSRC_CODE\": \"CUSTOMER\"\n",
    "    }\n",
    "datasource_code = json.dumps(datasource)\n",
    "\n",
    "response_bytearray = bytearray()\n",
    "try:\n",
    "    g2_config.addDataSource(config_handle, datasource_code, response_bytearray)\n",
    "\n",
    "except G2Exception as err:\n",
    "    print(err)"
   ]
  },
  {
   "cell_type": "markdown",
   "metadata": {},
   "source": [
    "### List DataSources again\n",
    "\n",
    "Call G2Config's `listDataSources()` method and pretty-print results.\n",
    "Notice that the list now contains the newly added datasource_code of \"CUSTOMER\".\n",
    "\n",
    "Details at [G2Config.listDataSources](senzing-G2Config-reference.ipynb#listDataSources)."
   ]
  },
  {
   "cell_type": "code",
   "execution_count": null,
   "metadata": {},
   "outputs": [],
   "source": [
    "response_bytearray = bytearray()\n",
    "try:\n",
    "    g2_config.listDataSources(config_handle, response_bytearray)\n",
    "\n",
    "except G2Exception as err:\n",
    "    print(err)\n",
    "    \n",
    "JSON(json.loads(response_bytearray))"
   ]
  },
  {
   "cell_type": "markdown",
   "metadata": {},
   "source": [
    "### Close configuration handle\n",
    "\n",
    "Details at [G2Config.close](senzing-G2Config-reference.ipynb#close)."
   ]
  },
  {
   "cell_type": "code",
   "execution_count": null,
   "metadata": {},
   "outputs": [],
   "source": [
    "g2_config.close(config_handle)"
   ]
  },
  {
   "cell_type": "markdown",
   "metadata": {},
   "source": [
    "## Add a data source using the command line tools.\n",
    "\n",
    "This part of the tutorial will take place outside of Jupyter Labs and on the command line.  \n",
    "\n",
    "### Join the docker container\n",
    "\n",
    "To join the running docker container execute the follow in a terminal.\n",
    "\n",
    "```console\n",
    "docker exec -it jupyter /bin/bash\n",
    "```\n",
    "\n",
    "This assumes the container was named `jupyter` when started.  Once the command \n",
    "runs the bash command prompt from the container should be available and look \n",
    "similar to:\n",
    "\n",
    "```console\n",
    "(base) jovyan@800dbaffa890:~$ \n",
    "```\n",
    "\n",
    "The exact numbers and letters between the `@` and `:` will be different, but otherwise \n",
    "it should look very similar.\n",
    "\n",
    "### Running the tools\n",
    "\n",
    "Senzing comes with several command line tools.  The tool of interest to add a \n",
    "data source is called `G2Config.py`.  Run it:\n",
    "\n",
    "```console\n",
    "(base) jovyan@800dbaffa890:~$ G2Command.py\n",
    "\n",
    "Initializing Senzing engines...\n",
    "\n",
    "Welcome to G2Config Tool. Type help or ? to list commands.\n",
    "\n",
    "(g2cfg)\n",
    "```\n",
    "\n",
    "When the `g2cfg` prompt is available type `help` or `?` to see a list of available \n",
    "commands.  Start try using the `listDataSources` command.\n",
    "\n",
    "```consold\n",
    "(g2cfg) listDataSources\n",
    "\n",
    "{\"id\": 1, \"dataSource\": \"TEST\"}\n",
    "{\"id\": 2, \"dataSource\": \"SEARCH\"}\n",
    "\n",
    "(g2cfg)\n",
    "```\n",
    "\n",
    "Tip: tab completion is enabled on both the command line and the `g2cfg` prompt.\n",
    "\n",
    "To add a data we use the `addDataSource`:\n",
    "\n",
    "```console\n",
    "(g2cfg) addDataSource\n",
    "\n",
    "Missing argument(s), syntax:\n",
    "\n",
    "\taddDataSource {\"dataSource\": \"<dataSource_name>\"}\n",
    "```\n",
    "\n",
    "Notice that the tools gives us helpful hints if we don't provide the correct arguments.  \n",
    "Provide the correct arguments and then use the `save` command to save the configuration \n",
    "changes to the database.\n",
    "\n",
    "```console\n",
    "(g2cfg) addDataSource {\"dataSource\": \"CUSTOMERS\"}\n",
    "\n",
    "Successfully added!\n",
    "\n",
    "(g2cfg) save\n",
    "\n",
    "WARNING: This will immediately update the current configuration in the Senzing repository with the current configuration!\n",
    "\n",
    "Are you certain you wish to proceed and save changes? (y/n)  y\n",
    "\n",
    "...lots of omitted output...\n",
    "\n",
    "(g2cfg) \n",
    "```\n",
    "\n",
    "Again list the data sources:\n",
    "\n",
    "```console\n",
    "(g2cfg) listDataSources\n",
    "\n",
    "{\"id\": 1, \"dataSource\": \"TEST\"}\n",
    "{\"id\": 2, \"dataSource\": \"SEARCH\"}\n",
    "{\"id\": 1000, \"dataSource\": \"CUSTOMERS\"}\n",
    "\n",
    "(g2cfg)\n",
    "```\n",
    "\n",
    "The specified data source has been added to the database.  \n",
    "Now exit the tool with the `exit` command.  If you've forgotten to save your \n",
    "configurations changes, exit will prompt you and you can save at that time.\n",
    "\n",
    "```console\n",
    "(g2cfg) exit\n",
    "\n",
    "There are unsaved changes, would you like to save first? (y/n)\n",
    "```\n",
    "\n",
    "\n"
   ]
  },
  {
   "cell_type": "code",
   "execution_count": null,
   "metadata": {},
   "outputs": [],
   "source": [
    "!pwd"
   ]
  },
  {
   "cell_type": "code",
   "execution_count": null,
   "metadata": {},
   "outputs": [],
   "source": []
  }
 ],
 "metadata": {
  "kernelspec": {
   "display_name": "Python 3 (ipykernel)",
   "language": "python",
   "name": "python3"
  },
  "language_info": {
   "codemirror_mode": {
    "name": "ipython",
    "version": 3
   },
   "file_extension": ".py",
   "mimetype": "text/x-python",
   "name": "python",
   "nbconvert_exporter": "python",
   "pygments_lexer": "ipython3",
   "version": "3.10.6"
  },
  "toc": {
   "base_numbering": 1,
   "nav_menu": {},
   "number_sections": true,
   "sideBar": true,
   "skip_h1_title": true,
   "title_cell": "Table of Contents",
   "title_sidebar": "Contents",
   "toc_cell": false,
   "toc_position": {},
   "toc_section_display": true,
   "toc_window_display": true
  },
  "vscode": {
   "interpreter": {
    "hash": "ac2eaa0ea0ebeafcc7822e65e46aa9d4f966f30b695406963e145ea4a91cd4fc"
   }
  }
 },
 "nbformat": 4,
 "nbformat_minor": 4
}
